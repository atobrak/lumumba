{
 "cells": [
  {
   "cell_type": "code",
   "execution_count": null,
   "metadata": {},
   "outputs": [],
   "source": [
    "pip install obspy "
   ]
  },
  {
   "cell_type": "code",
   "execution_count": null,
   "metadata": {},
   "outputs": [],
   "source": [
    "pip install future "
   ]
  },
  {
   "cell_type": "code",
   "execution_count": null,
   "metadata": {},
   "outputs": [],
   "source": [
    "# install the data time module to use for download and data analysis\n",
    "\n",
    "from obspy.core import UTCDateTime\n",
    "UTCDateTime(\"2012-09-07T12:15:00\")\n",
    "UTCDateTime(2012, 9, 7, 12, 15)\n",
    "UTCDateTime(2012, 9, 7, 12, 15, 0)\n",
    "UTCDateTime(2012, 9, 7, 12, 15)\n",
    "UTCDateTime(1347020100.0)\n",
    "UTCDateTime(2012, 9, 7, 12, 15)"
   ]
  },
  {
   "cell_type": "code",
   "execution_count": null,
   "metadata": {},
   "outputs": [],
   "source": [
    "# importing useful python modules\n",
    "\n",
    "import numpy as np\n",
    "import matplotlib.pyplot as plt\n",
    "import obspy\n",
    "import obspy.signal\n",
    "from obspy import read, read_inventory\n"
   ]
  },
  {
   "cell_type": "code",
   "execution_count": null,
   "metadata": {},
   "outputs": [],
   "source": [
    "# obtaining event data for Switzerland\n",
    "\n",
    "# \"min_lat\": 45.83203,\n",
    "   # \"max_lat\": 47.69732,\n",
    "   # \"min_lng\": 6.07544,\n",
    "   # \"max_lng\": 9.83723\n",
    "\n",
    "from __future__ import print_function\n",
    "\n",
    "import obspy\n",
    "import obspy.clients.fdsn\n",
    "\n",
    "\n",
    "client = obspy.clients.fdsn.Client(\"ETH\")\n",
    "\n",
    "starttime=obspy.UTCDateTime(\"2001-01-01\")\n",
    "endtime=obspy.UTCDateTime(\"2020-01-01\")\n",
    "\n",
    "events = client.get_events(minlatitude=45.83203, maxlatitude=47.69732,\n",
    "                           minlongitude=6.07544, maxlongitude=9.83723,\n",
    "                           minmagnitude=0, maxmagnitude=1,\n",
    "                           starttime=starttime,\n",
    "                           endtime=endtime, catalog = 'ETH')\n",
    "\n",
    "print(\"found %s event(s):\" % len(events))\n",
    "for event in events:\n",
    "    print(event)"
   ]
  },
  {
   "cell_type": "code",
   "execution_count": null,
   "metadata": {},
   "outputs": [],
   "source": [
    "# downloading data for switzerland\n",
    "\n",
    "\n",
    "# for oklahoma the main seismic stations belong to the IRISDMC, (Link: https://www.fdsn.org/networks/detail/OK/). \n",
    "# these stations are not directly observed in obspy but are embedded with the IRIS_client.\n",
    "\n",
    "\n",
    "from obspy.clients.fdsn.mass_downloader import CircularDomain, \\\n",
    "    Restrictions, MassDownloader\n",
    "\n",
    "# downloading data for 40 seconds\n",
    "\n",
    "origin_time = obspy.UTCDateTime(2007, 5, 21, 4, 19, 0.00)\n",
    "\n",
    "\n",
    "# Circular domain around the epicenter. This will download all data between\n",
    "# 0 and 5 degrees distance from the epicenter.\n",
    "\n",
    "# the minimum and maxradius radi are important parameters\n",
    "\n",
    "domain = CircularDomain(latitude=47.58, longitude=7.6,\n",
    "                       \n",
    "                        minradius=0.0, maxradius=5.0)\n",
    "\n",
    "restrictions = Restrictions(\n",
    "\n",
    "    # obtaining waveform information 10 seconds before the event and 30 seconds after\n",
    "    \n",
    "    starttime=origin_time - 0.1667*60,\n",
    "    endtime=origin_time + 0.5*60,\n",
    "    \n",
    "    \n",
    "    # Dealing with gaps in the data\n",
    "    # True, any trace with a gap/overlap will be discarded.\n",
    "    \n",
    "    \n",
    "    reject_channels_with_gaps=True,\n",
    "    \n",
    "    # obtaining only want waveforms that have data for at least 95 %  the requested time span. Any trace that is shorter than 95 % of the\n",
    "    # desired total duration will be discarded.\n",
    "    \n",
    "    \n",
    "    minimum_length=0.95,\n",
    "    \n",
    "    \n",
    "    \n",
    "    minimum_interstation_distance_in_m=0.005,\n",
    "    \n",
    "    # Only HH or BH channels. If a station has HH channels, those will be\n",
    "    # downloaded, otherwise the BH. Nothing will be downloaded if it has\n",
    "    # neither.\n",
    "    \n",
    "    channel_priorities=[\"HH[ZNE]\", \"BH[ZNE]\"],\n",
    "    \n",
    "    # Location codes are arbitrary and there is no rule as to which\n",
    "    # location is best. Same logic as for the previous setting.\n",
    "    \n",
    "    location_priorities=[\"\", \"00\", \"10\"])\n",
    "\n",
    "# No specified providers will result in all known ones being queried.\n",
    "\n",
    "mdl = MassDownloader(providers=[\"ETH\"])\n",
    "\n",
    "# The data will be downloaded to the ``./waveforms/`` and ``./stations/``\n",
    "# folders with automatically chosen file names.\n",
    "\n",
    "mdl.download(domain, restrictions, mseed_storage=\"waveforms_earthquake_data_1\",\n",
    "             stationxml_storage=\"stations_earthquake_data_1\")\n"
   ]
  },
  {
   "cell_type": "code",
   "execution_count": null,
   "metadata": {},
   "outputs": [],
   "source": [
    "\n"
   ]
  }
 ],
 "metadata": {
  "kernelspec": {
   "display_name": "Python 3",
   "language": "python",
   "name": "python3"
  },
  "language_info": {
   "codemirror_mode": {
    "name": "ipython",
    "version": 3
   },
   "file_extension": ".py",
   "mimetype": "text/x-python",
   "name": "python",
   "nbconvert_exporter": "python",
   "pygments_lexer": "ipython3",
   "version": "3.7.3"
  }
 },
 "nbformat": 4,
 "nbformat_minor": 2
}
